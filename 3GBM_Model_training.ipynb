{
 "cells": [
  {
   "cell_type": "code",
   "execution_count": 76,
   "metadata": {},
   "outputs": [],
   "source": [
    "import pandas as pd\n",
    "\n",
    "# Load the initial dataset\n",
    "file_path = 'final_dataset.csv'\n",
    "df = pd.read_csv(file_path)"
   ]
  },
  {
   "cell_type": "code",
   "execution_count": 77,
   "metadata": {},
   "outputs": [],
   "source": [
    "from sklearn.preprocessing import MultiLabelBinarizer, MinMaxScaler\n",
    "from sklearn.model_selection import train_test_split\n",
    "from sklearn.ensemble import RandomForestClassifier\n",
    "from sklearn.metrics import confusion_matrix, accuracy_score, classification_report\n",
    "\n",
    "data = df.copy()\n",
    "# Sample categorical and numerical features\n",
    "categorical_features = ['Education', 'Language', 'IDE', 'Course_platform', 'ML_algorithm', 'Related_activities']  \n",
    "numerical_features = ['Age', 'Years_of_programming', 'Years_of_machine_learning', 'Company_size', 'Yearly_compensation']  \n",
    "\n",
    "# One-Hot Encoding for Multi-Answer Categorical Features\n",
    "mlb = MultiLabelBinarizer()\n",
    "for feature in categorical_features:\n",
    "    # Splitting each feature into a list of items\n",
    "    data[feature] = data[feature].str.split(', ').apply(lambda x: [item.strip() for item in x])\n",
    "    # Applying MultiLabelBinarizer\n",
    "    encoded_features = pd.DataFrame(mlb.fit_transform(data[feature]), columns=mlb.classes_)\n",
    "    # Drop the original column and add the encoded columns\n",
    "    data = data.drop(columns=[feature])\n",
    "    data = pd.concat([data, encoded_features], axis=1)\n",
    "\n",
    "# Normalize Numerical Features\n",
    "scaler = MinMaxScaler()\n",
    "data[numerical_features] = scaler.fit_transform(data[numerical_features])"
   ]
  },
  {
   "cell_type": "code",
   "execution_count": 78,
   "metadata": {},
   "outputs": [],
   "source": [
    "#data.to_csv('dataset.csv', index=False)\n",
    "data = data.drop('Other', axis=1)\n",
    "data = data.loc[:, ~data.columns.duplicated()]\n",
    "data = data.drop(columns=['analyzing', 'and operationalizing data'])\n",
    "#duplicate_columns = data.columns.duplicated()\n",
    "#duplicate_column_names = data.columns[duplicate_columns].tolist()\n",
    "#data=data.drop(columns=duplicate_column_names)"
   ]
  },
  {
   "cell_type": "code",
   "execution_count": 79,
   "metadata": {},
   "outputs": [],
   "source": [
    "from sklearn.preprocessing import LabelEncoder\n",
    "label_encoder = LabelEncoder()\n",
    "data['Job'] = label_encoder.fit_transform(data['Job'])\n",
    "# Splitting the Dataset\n",
    "X = data.drop(columns=['Job'])  \n",
    "y = data['Job']  \n",
    "X_train, X_test, y_train, y_test = train_test_split(X, y, test_size=0.2, random_state=42)"
   ]
  },
  {
   "cell_type": "code",
   "execution_count": 80,
   "metadata": {},
   "outputs": [
    {
     "name": "stdout",
     "output_type": "stream",
     "text": [
      "Accuracy: 0.5888423988842398\n",
      "                           precision    recall  f1-score   support\n",
      "\n",
      "           Data Scientist       0.60      0.70      0.65      1340\n",
      "              DataAnalyst       0.50      0.53      0.52       597\n",
      "Machine Learning Engineer       0.47      0.28      0.35       459\n",
      "       Research Scientist       0.62      0.54      0.57       507\n",
      "        Software Engineer       0.68      0.66      0.67       682\n",
      "\n",
      "                 accuracy                           0.59      3585\n",
      "                macro avg       0.57      0.54      0.55      3585\n",
      "             weighted avg       0.58      0.59      0.58      3585\n",
      "\n"
     ]
    }
   ],
   "source": [
    "from sklearn.ensemble import GradientBoostingClassifier\n",
    "\n",
    "gbm_model = GradientBoostingClassifier(random_state=42)\n",
    "gbm_model.fit(X_train, y_train)\n",
    "\n",
    "y_pred_gbm = gbm_model.predict(X_test)\n",
    "accuracy = accuracy_score(y_test, y_pred_gbm)\n",
    "label_mapping = dict(zip(label_encoder.classes_, label_encoder.transform(label_encoder.classes_)))\n",
    "\n",
    "# reverse labels\n",
    "reverse_label_mapping = {v: k for k, v in label_mapping.items()}\n",
    "\n",
    "# predict\n",
    "y_true_names = [reverse_label_mapping[i] for i in y_test]\n",
    "y_pred_names = [reverse_label_mapping[i] for i in y_pred_gbm]\n",
    "\n",
    "# print out report\n",
    "report = classification_report(y_true_names, y_pred_names)\n",
    "print(\"Accuracy:\", accuracy)\n",
    "print(report)"
   ]
  },
  {
   "cell_type": "code",
   "execution_count": 81,
   "metadata": {},
   "outputs": [],
   "source": [
    "import pickle\n",
    "\n",
    "# Save the trained model to a file\n",
    "with open('gbm_model.pkl', 'wb') as model_file:\n",
    "    pickle.dump(gbm_model, model_file)"
   ]
  },
  {
   "cell_type": "code",
   "execution_count": 71,
   "metadata": {},
   "outputs": [
    {
     "name": "stdout",
     "output_type": "stream",
     "text": [
      "                           precision    recall  f1-score   support\n",
      "\n",
      "           Data Scientist       0.37      0.37      0.37      1340\n",
      "              DataAnalyst       0.17      0.18      0.17       597\n",
      "Machine Learning Engineer       0.11      0.12      0.12       459\n",
      "       Research Scientist       0.12      0.11      0.11       507\n",
      "        Software Engineer       0.20      0.19      0.19       682\n",
      "\n",
      "                 accuracy                           0.23      3585\n",
      "                macro avg       0.19      0.19      0.19      3585\n",
      "             weighted avg       0.24      0.23      0.23      3585\n",
      "\n"
     ]
    }
   ],
   "source": [
    "import numpy as np\n",
    "from sklearn.model_selection import train_test_split\n",
    "from sklearn.metrics import classification_report\n",
    "\n",
    "data = df.copy()\n",
    "\n",
    "# Getting the distribution of classes in the training set\n",
    "class_distribution = y_train.value_counts(normalize=True)\n",
    "\n",
    "# Generating random predictions based on class distribution\n",
    "random_predictions = np.random.choice(class_distribution.index, size=len(y_test), p=class_distribution.values)\n",
    "\n",
    "random_report = classification_report(y_test, random_predictions, target_names=label_encoder.classes_)\n",
    "# Evaluating the random model\n",
    "print(random_report)\n"
   ]
  },
  {
   "cell_type": "code",
   "execution_count": 74,
   "metadata": {
    "scrolled": true
   },
   "outputs": [
    {
     "data": {
      "text/plain": [
       "Text(0.5, 1.0, 'Random Decision Report')"
      ]
     },
     "execution_count": 74,
     "metadata": {},
     "output_type": "execute_result"
    },
    {
     "data": {
      "image/png": "[encoded data removed]",
      "text/plain": [
       "<Figure size 1000x600 with 1 Axes>"
      ]
     },
     "metadata": {},
     "output_type": "display_data"
    }
   ],
   "source": [
    "import seaborn as sns\n",
    "import matplotlib.pyplot as plt\n",
    "\n",
    "# Convert the report dictionary to a DataFrame\n",
    "random_report = classification_report(y_test, random_predictions, target_names=label_encoder.classes_, output_dict=True)\n",
    "\n",
    "\n",
    "# Convert the report to a DataFrame\n",
    "report_df = pd.DataFrame(random_report).transpose()\n",
    "\n",
    "# Drop the last three rows: 'accuracy', 'macro avg', 'weighted avg'\n",
    "report_df = report_df.drop(index=['accuracy', 'macro avg', 'weighted avg'])\n",
    "\n",
    "# Round off the values\n",
    "report_df = report_df.round(2)\n",
    "\n",
    "# Exclude 'support' column if present\n",
    "if 'support' in report_df.columns:\n",
    "    report_df = report_df.drop(columns='support')\n",
    "\n",
    "# Create the heatmap\n",
    "plt.figure(figsize=(10, 6))\n",
    "sns.heatmap(report_df, annot=True, cmap='Blues', cbar=False, fmt='g')\n",
    "plt.title('Random Decision Report')\n"
   ]
  },
  {
   "cell_type": "code",
   "execution_count": 84,
   "metadata": {},
   "outputs": [
    {
     "data": {
      "text/plain": [
       "Text(0.5, 1.0, 'GBM Report')"
      ]
     },
     "execution_count": 84,
     "metadata": {},
     "output_type": "execute_result"
    },
    {
     "data": {
      "image/png": "[encoded data removed]",
      "text/plain": [
       "<Figure size 1000x600 with 1 Axes>"
      ]
     },
     "metadata": {},
     "output_type": "display_data"
    }
   ],
   "source": [
    "# Convert the report dictionary to a DataFrame\n",
    "report = classification_report(y_true_names, y_pred_names, output_dict=True)\n",
    "\n",
    "\n",
    "# Convert the report to a DataFrame\n",
    "report_df = pd.DataFrame(report).transpose()\n",
    "\n",
    "# Drop the last three rows: 'accuracy', 'macro avg', 'weighted avg'\n",
    "report_df = report_df.drop(index=['accuracy', 'macro avg', 'weighted avg'])\n",
    "\n",
    "# Round off the values\n",
    "report_df = report_df.round(2)\n",
    "\n",
    "# Exclude 'support' column if present\n",
    "if 'support' in report_df.columns:\n",
    "    report_df = report_df.drop(columns='support')\n",
    "\n",
    "# Create the heatmap\n",
    "plt.figure(figsize=(10, 6))\n",
    "sns.heatmap(report_df, annot=True, cmap='Blues', cbar=False, fmt='g')\n",
    "plt.title('GBM Report')\n"
   ]
  },
  {
   "cell_type": "code",
   "execution_count": 10,
   "metadata": {},
   "outputs": [],
   "source": [
    "counts_of_ones = {col: (data[col] == 1).sum() for col in data.columns}\n"
   ]
  },
  {
   "cell_type": "code",
   "execution_count": 16,
   "metadata": {},
   "outputs": [
    {
     "data": {
      "text/plain": [
       "{' Cloud-certification programs ',\n",
       " ' DataCamp',\n",
       " ' Fast.ai',\n",
       " ' Kaggle Learn Courses',\n",
       " ' LinkedIn Learning',\n",
       " ' Other',\n",
       " ' Udacity',\n",
       " ' Udemy',\n",
       " ' University Courses ',\n",
       " ' edX',\n",
       " 'Cloud-certification programs ',\n",
       " 'Coursera',\n",
       " 'DataCamp',\n",
       " 'Fast.ai',\n",
       " 'Kaggle Learn Courses',\n",
       " 'LinkedIn Learning',\n",
       " 'Other',\n",
       " 'Udacity',\n",
       " 'Udemy',\n",
       " 'University Courses ',\n",
       " 'edX'}"
      ]
     },
     "execution_count": 16,
     "metadata": {},
     "output_type": "execute_result"
    }
   ],
   "source": [
    "all_features = set(','.join(df['Course_platform']).split(','))\n",
    "all_features"
   ]
  },
  {
   "cell_type": "code",
   "execution_count": 26,
   "metadata": {},
   "outputs": [
    {
     "data": {
      "text/plain": [
       "array([ 137500,   75000,     500,  175000,   65000,   12500,   17500,\n",
       "          4500,  500000,   27500,   85000,   45000,    8750,  112500,\n",
       "        275000,   55000,   35000,    2500,    6250,   22500,  225000,\n",
       "        400000,    1500,   95000,    3500,  750000, 1000000], dtype=int64)"
      ]
     },
     "execution_count": 26,
     "metadata": {},
     "output_type": "execute_result"
    }
   ],
   "source": [
    "df['Yearly_compensation'].unique()"
   ]
  },
  {
   "cell_type": "code",
   "execution_count": 82,
   "metadata": {},
   "outputs": [
    {
     "data": {
      "text/plain": [
       "Index(['Age', 'Job', 'Years_of_programming', 'Years_of_machine_learning',\n",
       "       'Company_size', 'Yearly_compensation', 'Bachelor’s degree',\n",
       "       'Doctoral degree', 'Master’s degree',\n",
       "       'No formal education past high school', 'Professional degree',\n",
       "       'Professional doctorate',\n",
       "       'Some college/university study without earning a bachelor’s degree',\n",
       "       'Bash', 'C', 'C#', 'C++', 'Go', 'Java', 'Javascript', 'Julia', 'MATLAB',\n",
       "       'None', 'PHP', 'Python', 'R', 'SQL', 'Swift', 'IntelliJ', 'Jupyter',\n",
       "       'Notepad++', 'PyCharm', 'RStudio', 'Spyder', 'Sublime Text',\n",
       "       'Vim / Emacs', 'Visual Studio', 'Visual Studio Code',\n",
       "       'Cloud-certification programs', 'Coursera', 'DataCamp', 'Fast.ai',\n",
       "       'Kaggle Learn Courses', 'LinkedIn Learning', 'Udacity', 'Udemy',\n",
       "       'University Courses', 'edX', 'Autoencoder Networks',\n",
       "       'Bayesian Approaches', 'Convolutional Neural Networks',\n",
       "       'Decision Trees or Random Forests', 'Dense Neural Networks',\n",
       "       'Evolutionary Approaches', 'Generative Adversarial Networks',\n",
       "       'Gradient Boosting Machines', 'Graph Neural Networks',\n",
       "       'Linear or Logistic Regression', 'Recurrent Neural Networks',\n",
       "       'Transformer Networks',\n",
       "       'Analyze and understand data to influence product or business decisions',\n",
       "       'Build and/or run a machine learning service that operationally improves my product or workflows',\n",
       "       'Build and/or run the data infrastructure that my business uses for storing',\n",
       "       'Build prototypes to explore applying machine learning to new areas',\n",
       "       'Do research that advances the state of the art of machine learning',\n",
       "       'Experimentation and iteration to improve existing ML models',\n",
       "       'None of these activities are an important part of my role at work'],\n",
       "      dtype='object')"
      ]
     },
     "execution_count": 82,
     "metadata": {},
     "output_type": "execute_result"
    }
   ],
   "source": [
    "data.columns"
   ]
  },
  {
   "cell_type": "code",
   "execution_count": 35,
   "metadata": {},
   "outputs": [
    {
     "data": {
      "text/plain": [
       "{'Data Scientist': 0,\n",
       " 'DataAnalyst': 1,\n",
       " 'MachineLearningEngineer': 2,\n",
       " 'Research Scientist': 3,\n",
       " 'Software Engineer': 4,\n",
       " 'Statistician': 5}"
      ]
     },
     "execution_count": 35,
     "metadata": {},
     "output_type": "execute_result"
    }
   ],
   "source": [
    "label_mapping"
   ]
  },
  {
   "cell_type": "code",
   "execution_count": 36,
   "metadata": {},
   "outputs": [
    {
     "data": {
      "text/plain": [
       "{0: 'Data Scientist',\n",
       " 1: 'DataAnalyst',\n",
       " 2: 'MachineLearningEngineer',\n",
       " 3: 'Research Scientist',\n",
       " 4: 'Software Engineer',\n",
       " 5: 'Statistician'}"
      ]
     },
     "execution_count": 36,
     "metadata": {},
     "output_type": "execute_result"
    }
   ],
   "source": [
    "reverse_label_mapping = {v: k for k, v in label_mapping.items()}\n",
    "reverse_label_mapping"
   ]
  },
  {
   "cell_type": "code",
   "execution_count": null,
   "metadata": {},
   "outputs": [],
   "source": []
  }
 ],
 "metadata": {
  "kernelspec": {
   "display_name": "Python 3 (ipykernel)",
   "language": "python",
   "name": "python3"
  },
  "language_info": {
   "codemirror_mode": {
    "name": "ipython",
    "version": 3
   },
   "file_extension": ".py",
   "mimetype": "text/x-python",
   "name": "python",
   "nbconvert_exporter": "python",
   "pygments_lexer": "ipython3",
   "version": "3.11.4"
  },
  "toc": {
   "base_numbering": 1,
   "nav_menu": {},
   "number_sections": true,
   "sideBar": true,
   "skip_h1_title": false,
   "title_cell": "Table of Contents",
   "title_sidebar": "Contents",
   "toc_cell": false,
   "toc_position": {},
   "toc_section_display": true,
   "toc_window_display": false
  }
 },
 "nbformat": 4,
 "nbformat_minor": 4
}
