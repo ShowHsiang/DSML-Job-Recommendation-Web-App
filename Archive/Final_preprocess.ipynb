{
 "cells": [
  {
   "cell_type": "code",
   "execution_count": 14,
   "id": "d6925261",
   "metadata": {},
   "outputs": [],
   "source": [
    "import pandas as pd\n",
    "\n",
    "# Load the initial dataset\n",
    "file_path = 'Preprocessed&dropped_dataset.csv'\n",
    "df = pd.read_csv(file_path)\n",
    "\n",
    "# Dropping 'Notebook' and 'Hardware' columns\n",
    "df_dropped_columns = df.drop(['Notebook', 'Hardware', 'Course_platform','Media_sources'], axis=1)\n",
    "\n",
    "# Dropping rows where 'Yearly_compensation' is missing\n",
    "df_dropped_rows = df_dropped_columns.dropna(subset=['Yearly_compensation'])\n",
    "\n",
    "# Dropping rows where 'Years_of_machine_learning' is missing\n",
    "df_dropped_ml_years = df_dropped_rows.dropna(subset=['Years_of_machine_learning'])\n"
   ]
  },
  {
   "cell_type": "code",
   "execution_count": 15,
   "id": "c09694ea",
   "metadata": {},
   "outputs": [],
   "source": [
    "# merge some options together\n",
    "# Replacing all remaining missing values with 'Other'\n",
    "df_filled = df_dropped_ml_years.fillna('Other')\n",
    "df_filled['Years_of_machine_learning'] = df_filled['Years_of_machine_learning'].replace('MachineLearningEngineer', '0')\n",
    "df_filled['Years_of_programming'] = df_filled['Years_of_programming'].replace('< 1 years', '0')\n",
    "df_filled['Gender'] = df_filled['Gender'].replace(['Nonbinary', 'Prefer not to say', 'Prefer to self-describe'], 'Other')\n",
    "df_filled['Education'] = df_filled['Education'].replace('Some college/university study without earning a bachelor’s degree', 'No formal education past high school')\n",
    "df_filled['Education'] = df_filled['Education'].replace('No formal education past high school', 'high school')\n",
    "df_filled['Education'] = df_filled['Education'].replace('Professional degree', 'Bachelor’s degree')\n",
    "df_filled['Education'] = df_filled['Education'].replace('Professional doctorate', 'Doctoral degree')\n",
    "# merge some jobs\n",
    "df_filled['Job'] = df_filled['Job'].replace(['DBA/Database Engineer', 'Data Administrator', 'Data Architect'], 'Data Engineer')\n",
    "df_filled['Job'] = df_filled['Job'].replace(['Research Scientist', 'Teacher / professor'], 'Academic/Research Role')\n",
    "df_filled['Job'] = df_filled['Job'].replace('Statistician', 'Data Scientist')\n",
    "df_filled['Job'] = df_filled['Job'].replace(['Engineer (non-software)', 'Developer Relations/Advocacy', 'Developer Advocate'], 'Other Technical Roles')\n",
    "# try drop some jobs"
   ]
  },
  {
   "cell_type": "code",
   "execution_count": 16,
   "id": "6dc766cd",
   "metadata": {},
   "outputs": [],
   "source": [
    "# Find the top 9 countries\n",
    "top_countries = df_filled['Country'].value_counts().nlargest(10).index\n",
    "\n",
    "# Replace other countries with 'Other'\n",
    "df_filled['Country'] = df_filled['Country'].apply(lambda x: x if x in top_countries else 'Other')"
   ]
  },
  {
   "cell_type": "code",
   "execution_count": 17,
   "id": "22a78e40",
   "metadata": {},
   "outputs": [],
   "source": [
    "import re\n",
    "\n",
    "# Function to convert compensation ranges to average values\n",
    "def convert_range_to_average(compensation_range):\n",
    "    if \"-\" in compensation_range:\n",
    "        start, end = map(int, compensation_range.replace(\",\", \"\").replace(\"$\", \"\").replace(\"<\", \"\").replace(\">\", \"\").split(\"-\"))\n",
    "        return round((start + end + 1) / 2)\n",
    "    else:\n",
    "        return int(compensation_range.replace(\",\", \"\").replace(\"$\", \"\").replace(\"<\", \"\").replace(\">\", \"\").replace(\" \", \"\"))\n",
    "\n",
    "# Function to extract numbers from strings and calculate the middle value\n",
    "def extract_and_calculate_middle(s):\n",
    "    numbers = re.findall(r'\\d+', s.replace(\",\", \"\").replace(\"$\", \"\").replace(\"<\", \"\").replace(\">\", \"\").replace(\" \", \"\"))\n",
    "    if len(numbers) == 2:\n",
    "        start = int(numbers[0])\n",
    "        end = int(numbers[1])\n",
    "        middle = (start + end) // 2\n",
    "        return middle\n",
    "    elif len(numbers) == 1:\n",
    "        return int(numbers[0])\n",
    "    else:\n",
    "        return None\n",
    "# Function to remove text within parentheses\n",
    "def remove_parentheses(text):\n",
    "    return re.sub(r'\\([^)]*\\)', '', text)\n"
   ]
  },
  {
   "cell_type": "code",
   "execution_count": 18,
   "id": "2b6d2d0e",
   "metadata": {},
   "outputs": [],
   "source": [
    "# Applying the functions to the relevant columns\n",
    "df_filled['Yearly_compensation'] = df_filled['Yearly_compensation'].apply(convert_range_to_average)\n",
    "df_filled['Years_of_programming'] = df_filled['Years_of_programming'].apply(extract_and_calculate_middle)\n",
    "df_filled['Years_of_machine_learning'] = df_filled['Years_of_machine_learning'].apply(extract_and_calculate_middle)\n",
    "df_filled['Company_size'] = df_filled['Company_size'].apply(extract_and_calculate_middle)\n",
    "df_filled['Age'] = df_filled['Age'].apply(extract_and_calculate_middle)\n",
    "# remove ()\n",
    "df_filled['ML_algorithm'] = df_filled['ML_algorithm'].apply(remove_parentheses)"
   ]
  },
  {
   "cell_type": "code",
   "execution_count": 19,
   "id": "1126069e",
   "metadata": {},
   "outputs": [],
   "source": [
    "# Exporting the cleaned dataset\n",
    "output_file_path = 'Preprocessed_final_dataset.csv'\n",
    "df_filled.to_csv(output_file_path, index=False)"
   ]
  },
  {
   "cell_type": "code",
   "execution_count": 217,
   "id": "06c0341e",
   "metadata": {},
   "outputs": [
    {
     "data": {
      "text/html": [
       "<div>\n",
       "<style scoped>\n",
       "    .dataframe tbody tr th:only-of-type {\n",
       "        vertical-align: middle;\n",
       "    }\n",
       "\n",
       "    .dataframe tbody tr th {\n",
       "        vertical-align: top;\n",
       "    }\n",
       "\n",
       "    .dataframe thead th {\n",
       "        text-align: right;\n",
       "    }\n",
       "</style>\n",
       "<table border=\"1\" class=\"dataframe\">\n",
       "  <thead>\n",
       "    <tr style=\"text-align: right;\">\n",
       "      <th></th>\n",
       "      <th>Age</th>\n",
       "      <th>Gender</th>\n",
       "      <th>Country</th>\n",
       "      <th>Education</th>\n",
       "      <th>Job</th>\n",
       "      <th>Years_of_programming</th>\n",
       "      <th>Years_of_machine_learning</th>\n",
       "      <th>Company_size</th>\n",
       "      <th>Yearly_compensation</th>\n",
       "      <th>Language</th>\n",
       "      <th>IDE</th>\n",
       "      <th>Visualization_tool</th>\n",
       "      <th>ML_Framework</th>\n",
       "      <th>ML_algorithm</th>\n",
       "      <th>Related_activities</th>\n",
       "    </tr>\n",
       "  </thead>\n",
       "  <tbody>\n",
       "    <tr>\n",
       "      <th>0</th>\n",
       "      <td>32</td>\n",
       "      <td>Man</td>\n",
       "      <td>United States of America</td>\n",
       "      <td>Master’s degree</td>\n",
       "      <td>Data Engineer</td>\n",
       "      <td>7</td>\n",
       "      <td>1</td>\n",
       "      <td>10000</td>\n",
       "      <td>112500</td>\n",
       "      <td>Python, R, SQL</td>\n",
       "      <td>Visual Studio,  PyCharm ,   Sublime Text</td>\n",
       "      <td>Matplotlib ,  Seaborn ,  Ggplot / ggplot2 ,  ...</td>\n",
       "      <td>Scikit-learn ,   TensorFlow ,  Keras ,  PyTo...</td>\n",
       "      <td>Linear or Logistic Regression, Convolutional N...</td>\n",
       "      <td>Analyze and understand data to influence produ...</td>\n",
       "    </tr>\n",
       "    <tr>\n",
       "      <th>1</th>\n",
       "      <td>37</td>\n",
       "      <td>Man</td>\n",
       "      <td>Other</td>\n",
       "      <td>Bachelor’s degree</td>\n",
       "      <td>Software Engineer</td>\n",
       "      <td>15</td>\n",
       "      <td>0</td>\n",
       "      <td>5499</td>\n",
       "      <td>17500</td>\n",
       "      <td>Java, Javascript, Bash</td>\n",
       "      <td>Visual Studio Code (VSCode),   Notepad++  ,   ...</td>\n",
       "      <td>D3 js</td>\n",
       "      <td>Other</td>\n",
       "      <td>Other</td>\n",
       "      <td>None of these activities are an important part...</td>\n",
       "    </tr>\n",
       "    <tr>\n",
       "      <th>2</th>\n",
       "      <td>32</td>\n",
       "      <td>Man</td>\n",
       "      <td>United States of America</td>\n",
       "      <td>Master’s degree</td>\n",
       "      <td>Data Scientist</td>\n",
       "      <td>7</td>\n",
       "      <td>3</td>\n",
       "      <td>624</td>\n",
       "      <td>137500</td>\n",
       "      <td>Python, SQL, Bash</td>\n",
       "      <td>PyCharm</td>\n",
       "      <td>Matplotlib ,  Seaborn ,  Plotly / Plotly Expr...</td>\n",
       "      <td>Scikit-learn ,   TensorFlow ,  Keras ,  Xgbo...</td>\n",
       "      <td>Linear or Logistic Regression, Decision Trees ...</td>\n",
       "      <td>Analyze and understand data to influence produ...</td>\n",
       "    </tr>\n",
       "    <tr>\n",
       "      <th>5</th>\n",
       "      <td>37</td>\n",
       "      <td>Man</td>\n",
       "      <td>Other</td>\n",
       "      <td>Doctoral degree</td>\n",
       "      <td>Data Scientist</td>\n",
       "      <td>7</td>\n",
       "      <td>2</td>\n",
       "      <td>5499</td>\n",
       "      <td>75000</td>\n",
       "      <td>Python, SQL, Bash</td>\n",
       "      <td>Jupyter,  PyCharm ,   Sublime Text  ,   Vim / ...</td>\n",
       "      <td>Matplotlib ,  Seaborn ,  Altair ,  Bokeh</td>\n",
       "      <td>Scikit-learn ,   TensorFlow ,  Keras ,  PyTo...</td>\n",
       "      <td>Gradient Boosting Machines , Convolutional Neu...</td>\n",
       "      <td>MachineLearningEngineer, MachineLearningEngine...</td>\n",
       "    </tr>\n",
       "    <tr>\n",
       "      <th>6</th>\n",
       "      <td>37</td>\n",
       "      <td>Man</td>\n",
       "      <td>United States of America</td>\n",
       "      <td>Doctoral degree</td>\n",
       "      <td>Academic/Research Role</td>\n",
       "      <td>1</td>\n",
       "      <td>1</td>\n",
       "      <td>24</td>\n",
       "      <td>35000</td>\n",
       "      <td>R</td>\n",
       "      <td>RStudio</td>\n",
       "      <td>Ggplot / ggplot2</td>\n",
       "      <td>Tidymodels</td>\n",
       "      <td>Linear or Logistic Regression</td>\n",
       "      <td>Analyze and understand data to influence produ...</td>\n",
       "    </tr>\n",
       "  </tbody>\n",
       "</table>\n",
       "</div>"
      ],
      "text/plain": [
       "   Age Gender                   Country          Education  \\\n",
       "0   32    Man  United States of America    Master’s degree   \n",
       "1   37    Man                     Other  Bachelor’s degree   \n",
       "2   32    Man  United States of America    Master’s degree   \n",
       "5   37    Man                     Other    Doctoral degree   \n",
       "6   37    Man  United States of America    Doctoral degree   \n",
       "\n",
       "                      Job  Years_of_programming  Years_of_machine_learning  \\\n",
       "0           Data Engineer                     7                          1   \n",
       "1       Software Engineer                    15                          0   \n",
       "2          Data Scientist                     7                          3   \n",
       "5          Data Scientist                     7                          2   \n",
       "6  Academic/Research Role                     1                          1   \n",
       "\n",
       "   Company_size  Yearly_compensation                Language  \\\n",
       "0         10000               112500          Python, R, SQL   \n",
       "1          5499                17500  Java, Javascript, Bash   \n",
       "2           624               137500       Python, SQL, Bash   \n",
       "5          5499                75000       Python, SQL, Bash   \n",
       "6            24                35000                       R   \n",
       "\n",
       "                                                 IDE  \\\n",
       "0         Visual Studio,  PyCharm ,   Sublime Text     \n",
       "1  Visual Studio Code (VSCode),   Notepad++  ,   ...   \n",
       "2                                           PyCharm    \n",
       "5  Jupyter,  PyCharm ,   Sublime Text  ,   Vim / ...   \n",
       "6                                           RStudio    \n",
       "\n",
       "                                  Visualization_tool  \\\n",
       "0   Matplotlib ,  Seaborn ,  Ggplot / ggplot2 ,  ...   \n",
       "1                                             D3 js    \n",
       "2   Matplotlib ,  Seaborn ,  Plotly / Plotly Expr...   \n",
       "5          Matplotlib ,  Seaborn ,  Altair ,  Bokeh    \n",
       "6                                  Ggplot / ggplot2    \n",
       "\n",
       "                                        ML_Framework  \\\n",
       "0    Scikit-learn ,   TensorFlow ,  Keras ,  PyTo...   \n",
       "1                                              Other   \n",
       "2    Scikit-learn ,   TensorFlow ,  Keras ,  Xgbo...   \n",
       "5    Scikit-learn ,   TensorFlow ,  Keras ,  PyTo...   \n",
       "6                                        Tidymodels    \n",
       "\n",
       "                                        ML_algorithm  \\\n",
       "0  Linear or Logistic Regression, Convolutional N...   \n",
       "1                                              Other   \n",
       "2  Linear or Logistic Regression, Decision Trees ...   \n",
       "5  Gradient Boosting Machines , Convolutional Neu...   \n",
       "6                      Linear or Logistic Regression   \n",
       "\n",
       "                                  Related_activities  \n",
       "0  Analyze and understand data to influence produ...  \n",
       "1  None of these activities are an important part...  \n",
       "2  Analyze and understand data to influence produ...  \n",
       "5  MachineLearningEngineer, MachineLearningEngine...  \n",
       "6  Analyze and understand data to influence produ...  "
      ]
     },
     "execution_count": 217,
     "metadata": {},
     "output_type": "execute_result"
    }
   ],
   "source": [
    "df_filled.head()"
   ]
  },
  {
   "cell_type": "code",
   "execution_count": 226,
   "id": "86777102",
   "metadata": {},
   "outputs": [
    {
     "data": {
      "text/plain": [
       "Master’s degree           12762\n",
       "Bachelor’s degree          8330\n",
       "Doctoral degree            5061\n",
       "high school                1483\n",
       "I prefer not to answer      707\n",
       "Name: Education, dtype: int64"
      ]
     },
     "execution_count": 226,
     "metadata": {},
     "output_type": "execute_result"
    }
   ],
   "source": [
    "df_filled['Education'].value_counts()"
   ]
  },
  {
   "cell_type": "code",
   "execution_count": 225,
   "id": "35ced8b4",
   "metadata": {},
   "outputs": [
    {
     "data": {
      "text/plain": [
       "array(['Master’s degree', 'Bachelor’s degree', 'Doctoral degree',\n",
       "       'high school', 'I prefer not to answer'], dtype=object)"
      ]
     },
     "execution_count": 225,
     "metadata": {},
     "output_type": "execute_result"
    }
   ],
   "source": [
    "df_filled['Education'].unique()"
   ]
  },
  {
   "cell_type": "code",
   "execution_count": 220,
   "id": "a66e6e87",
   "metadata": {
    "scrolled": false
   },
   "outputs": [
    {
     "data": {
      "text/plain": [
       "10"
      ]
     },
     "execution_count": 220,
     "metadata": {},
     "output_type": "execute_result"
    }
   ],
   "source": [
    "df_filled['Country'].nunique()"
   ]
  },
  {
   "cell_type": "code",
   "execution_count": null,
   "id": "4070a268",
   "metadata": {},
   "outputs": [],
   "source": []
  }
 ],
 "metadata": {
  "kernelspec": {
   "display_name": "Python 3 (ipykernel)",
   "language": "python",
   "name": "python3"
  },
  "language_info": {
   "codemirror_mode": {
    "name": "ipython",
    "version": 3
   },
   "file_extension": ".py",
   "mimetype": "text/x-python",
   "name": "python",
   "nbconvert_exporter": "python",
   "pygments_lexer": "ipython3",
   "version": "3.11.4"
  },
  "toc": {
   "base_numbering": 1,
   "nav_menu": {},
   "number_sections": true,
   "sideBar": true,
   "skip_h1_title": false,
   "title_cell": "Table of Contents",
   "title_sidebar": "Contents",
   "toc_cell": false,
   "toc_position": {},
   "toc_section_display": true,
   "toc_window_display": false
  }
 },
 "nbformat": 4,
 "nbformat_minor": 5
}
