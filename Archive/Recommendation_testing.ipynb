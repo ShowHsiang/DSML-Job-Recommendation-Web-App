{
 "cells": [
  {
   "cell_type": "code",
   "execution_count": 4,
   "metadata": {},
   "outputs": [
    {
     "data": {
      "text/plain": [
       "'DataAnalyst'"
      ]
     },
     "execution_count": 4,
     "metadata": {},
     "output_type": "execute_result"
    }
   ],
   "source": [
    "import pandas as pd\n",
    "import matplotlib.pyplot as plt\n",
    "import seaborn as sns\n",
    "import re\n",
    "import pickle\n",
    "from sklearn.preprocessing import MinMaxScaler\n",
    "\n",
    "# Load the trained model from the file\n",
    "with open('gbm_model.pkl', 'rb') as model_file:\n",
    "    gbm_model = pickle.load(model_file)\n",
    "\n",
    "\n",
    "dict_age = [32, 37, 52, 27, 23, 19, 42, 57, 47, 70, 64]\n",
    "dict_years_of_programming = [7, 1, 20, 15, 4, 2]\n",
    "dict_years_of_ml = [3, 2, 1, 7, 4, 20, 15]\n",
    "dict_company_size = [624, 5499, 149, 24, 10000]\n",
    "dict_yearly_compensation = [137500, 75000, 500, 175000, 65000, 12500, 17500,\n",
    "                            4500, 500000, 27500, 85000, 45000, 8750, 112500,\n",
    "                            275000, 55000, 35000, 2500, 6250, 22500, 225000,\n",
    "                            400000, 1500, 95000, 3500, 750000, 1000000]\n",
    "\n",
    "categorical_features = ['Education', 'Language', 'IDE', 'Course_platform', 'ML_algorithm', 'Related_activities']\n",
    "numerical_features = ['Age', 'Years_of_programming', 'Years_of_machine_learning', 'Company_size', 'Yearly_compensation']\n",
    "reverse_label_mapping = {0: 'Data Scientist',\n",
    "                         1: 'Data Analyst',\n",
    "                         2: 'Machine Learning Engineer',\n",
    "                         3: 'Research Scientist',\n",
    "                         4: 'Software Engineer',\n",
    "                         5: 'Statistician'}\n",
    "input_features = {feature: 0 for feature in [\n",
    "    'Age', 'Years_of_programming', 'Years_of_machine_learning', 'Company_size', 'Yearly_compensation',\n",
    "    'Bachelor’s degree', 'Doctoral degree', 'Master’s degree', 'No formal education past high school',\n",
    "    'Professional degree', 'Professional doctorate',\n",
    "    'Some college/university study without earning a bachelor’s degree',\n",
    "    'Bash', 'C', 'C#', 'C++', 'Go', 'Java', 'Javascript', 'Julia', 'MATLAB', 'PHP', 'Python', 'R', 'SQL', 'Swift',\n",
    "    'IntelliJ', 'Jupyter', 'Notepad++', 'PyCharm', 'RStudio', 'Spyder', 'Sublime Text', 'Vim / Emacs',\n",
    "    'Visual Studio', 'Visual Studio Code', 'Cloud-certification programs', 'Coursera', 'DataCamp', 'Fast.ai',\n",
    "    'Kaggle Learn Courses', 'LinkedIn Learning', 'Udacity', 'Udemy', 'University Courses', 'edX',\n",
    "    'Autoencoder Networks', 'Bayesian Approaches', 'Convolutional Neural Networks', 'Decision Trees or Random Forests',\n",
    "    'Dense Neural Networks', 'Evolutionary Approaches', 'Generative Adversarial Networks', 'Gradient Boosting Machines',\n",
    "    'Graph Neural Networks', 'Linear or Logistic Regression', 'Recurrent Neural Networks', 'Transformer Networks',\n",
    "    'Analyze and understand data to influence product or business decisions',\n",
    "    'Build and/or run the data infrastructure that my business uses for storing',\n",
    "    'Experimentation and iteration to improve existing ML models', 'MachineLearningEngineer',\n",
    "    'None of these activities are an important part of my role at work'\n",
    "]}\n",
    "\n",
    "\n",
    "# Function to find the nearest value\n",
    "def find_nearest(value, options):\n",
    "    return min(options, key=lambda x: abs(x - value))\n",
    "\n",
    "\n",
    "# function to Normalize numerical features\n",
    "def scale_input(input_value, min_value, max_value):\n",
    "    return (input_value - min_value) / (max_value - min_value)\n",
    "\n",
    "\n",
    "def find_min_max_values(dict_values, user_input):\n",
    "    # Find the corresponding list of values\n",
    "    value_list = dict_values.get(user_input, None)\n",
    "\n",
    "    if value_list:\n",
    "        # Find the min and max values in the list\n",
    "        min_value = min(value_list)\n",
    "        max_value = max(value_list)\n",
    "        return min_value, max_value\n",
    "    else:\n",
    "        return None, None\n",
    "\n",
    "\n",
    "input_df = pd.DataFrame([input_features])\n",
    "\n",
    "# Predict using the model\n",
    "predicted_job_role = gbm_model.predict(input_df)[0]\n",
    "\n",
    "# Map the predicted label back to the original job role\n",
    "predicted_job_role_name = reverse_label_mapping[predicted_job_role]\n",
    "predicted_job_role_name"
   ]
  },
  {
   "cell_type": "code",
   "execution_count": null,
   "metadata": {},
   "outputs": [],
   "source": []
  }
 ],
 "metadata": {
  "kernelspec": {
   "display_name": "Python 3",
   "language": "python",
   "name": "python3"
  },
  "language_info": {
   "codemirror_mode": {
    "name": "ipython",
    "version": 3
   },
   "file_extension": ".py",
   "mimetype": "text/x-python",
   "name": "python",
   "nbconvert_exporter": "python",
   "pygments_lexer": "ipython3",
   "version": "3.8.5"
  }
 },
 "nbformat": 4,
 "nbformat_minor": 4
}
